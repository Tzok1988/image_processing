{
 "cells": [
  {
   "cell_type": "code",
   "execution_count": 1,
   "id": "4ba2f498",
   "metadata": {},
   "outputs": [],
   "source": [
    "import cv2"
   ]
  },
  {
   "cell_type": "code",
   "execution_count": 2,
   "id": "f59583b0",
   "metadata": {},
   "outputs": [
    {
     "name": "stdout",
     "output_type": "stream",
     "text": [
      "<class 'numpy.ndarray'>\n"
     ]
    }
   ],
   "source": [
    "img=cv2.imread(\"galaxy.jpg\",0)\n",
    "\n",
    "print(type(img))"
   ]
  },
  {
   "cell_type": "code",
   "execution_count": 3,
   "id": "e8d363c1",
   "metadata": {},
   "outputs": [
    {
     "name": "stdout",
     "output_type": "stream",
     "text": [
      "[[14 18 14 ... 20 15 16]\n",
      " [12 16 12 ... 20 15 17]\n",
      " [12 13 16 ... 14 24 21]\n",
      " ...\n",
      " [ 0  0  0 ...  5  8 14]\n",
      " [ 0  0  0 ...  2  3  9]\n",
      " [ 1  1  1 ...  1  1  3]]\n"
     ]
    }
   ],
   "source": [
    "print(img)"
   ]
  },
  {
   "cell_type": "code",
   "execution_count": 4,
   "id": "5c2cf706",
   "metadata": {},
   "outputs": [
    {
     "name": "stdout",
     "output_type": "stream",
     "text": [
      "(1485, 990)\n"
     ]
    }
   ],
   "source": [
    "print(img.shape)"
   ]
  },
  {
   "cell_type": "code",
   "execution_count": 5,
   "id": "5f87a51d",
   "metadata": {},
   "outputs": [
    {
     "name": "stdout",
     "output_type": "stream",
     "text": [
      "2\n"
     ]
    }
   ],
   "source": [
    "print(img.ndim)"
   ]
  },
  {
   "cell_type": "code",
   "execution_count": 6,
   "id": "c589b09d",
   "metadata": {},
   "outputs": [],
   "source": [
    "resized_image=cv2.resize(img,(int(img.shape[1]/2),int(img.shape[0]/2)))"
   ]
  },
  {
   "cell_type": "code",
   "execution_count": 7,
   "id": "ba57f2fb",
   "metadata": {},
   "outputs": [],
   "source": [
    "cv2.imshow(\"Galaxy\",resized_image)\n",
    "cv2.imwrite(\"Galaxy_resized.jpg\",resized_image)\n",
    "cv2.waitKey(0)\n",
    "cv2.destroyAllWindows()"
   ]
  },
  {
   "cell_type": "code",
   "execution_count": null,
   "id": "ed910ab5",
   "metadata": {},
   "outputs": [],
   "source": []
  }
 ],
 "metadata": {
  "kernelspec": {
   "display_name": "Python 3 (ipykernel)",
   "language": "python",
   "name": "python3"
  },
  "language_info": {
   "codemirror_mode": {
    "name": "ipython",
    "version": 3
   },
   "file_extension": ".py",
   "mimetype": "text/x-python",
   "name": "python",
   "nbconvert_exporter": "python",
   "pygments_lexer": "ipython3",
   "version": "3.9.12"
  }
 },
 "nbformat": 4,
 "nbformat_minor": 5
}
